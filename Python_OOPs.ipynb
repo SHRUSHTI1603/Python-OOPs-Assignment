{
  "nbformat": 4,
  "nbformat_minor": 0,
  "metadata": {
    "colab": {
      "provenance": []
    },
    "kernelspec": {
      "name": "python3",
      "display_name": "Python 3"
    },
    "language_info": {
      "name": "python"
    }
  },
  "cells": [
    {
      "cell_type": "markdown",
      "source": [
        "1. What is Object-Oriented Programming (OOP)?\n",
        "\n",
        "   - OOP is a way of writing code using objects.\n",
        "\n",
        "   - Objects are like real-life things (e.g., a car, a dog) with data and actions.\n",
        "\n",
        "   - Classes are blueprints to create objects.\n",
        "\n",
        "   - It helps to keep code neat and simple.\n",
        "\n",
        "   - Encapsulation keeps data safe inside objects.\n",
        "\n",
        "   - Inheritance lets one class use features of another.\n",
        "\n",
        "   - Polymorphism means one task can be done in different ways.\n",
        "\n",
        "   - OOP is used in Python, Java, C++, etc.\n"
      ],
      "metadata": {
        "id": "nUacHdumt3vv"
      }
    },
    {
      "cell_type": "markdown",
      "source": [
        "2. What is a class in OOP ?\n",
        "\n",
        "   - A class is a blueprint or template for creating objects.\n",
        "\n",
        "   - It defines properties (called attributes) and actions (called methods).\n",
        "\n",
        "   - Think of it like a car design — the design is the class, and real cars made from it are the objects.\n",
        "\n",
        "   - It helps to organize code better.\n",
        "\n",
        "   - You can create many objects from one class.\n"
      ],
      "metadata": {
        "id": "4zoewxuLuoAP"
      }
    },
    {
      "cell_type": "markdown",
      "source": [
        "3. What is an object in OOP ?\n",
        "\n",
        "   - An object is a real-world thing created from a class.\n",
        "\n",
        "   - It contains data (attributes) and functions (methods).\n",
        "\n",
        "   - Think of a class as a blueprint, and the object as the final product made from it.\n",
        "\n",
        "   - Each object has its own values, but follows the class design.\n",
        "\n",
        "   - Objects help to use and manage code easily.\n"
      ],
      "metadata": {
        "id": "0cn9BRhcvDN0"
      }
    },
    {
      "cell_type": "markdown",
      "source": [
        "4. What is the difference between abstraction and encapsulation ?\n",
        "\n",
        "  **Abstraction:**\n",
        "\n",
        "   - Abstraction means hiding unnecessary details and showing only the important information.\n",
        "\n",
        "   - It helps to reduce complexity by focusing on what an object does, not how it does it.\n",
        "\n",
        "   - Example: When you use a mobile phone, you just press buttons—you don't know the internal working.\n",
        "\n",
        "   - In programming, abstraction is done using abstract classes or interfaces.\n",
        "\n",
        "  **Encapsulation:**\n",
        "\n",
        "   -  Encapsulation means hiding the data inside a class so it cannot be changed directly.\n",
        "\n",
        "   - It helps to protect data and keep it safe from outside code.\n",
        "\n",
        "   - Example: A car's engine is hidden; you can't change it directly, but you can start it using a key.\n",
        "\n",
        "   - In programming, encapsulation is done using private variables and getter/setter methods.\n"
      ],
      "metadata": {
        "id": "wto81RCbvWVk"
      }
    },
    {
      "cell_type": "markdown",
      "source": [
        "5. What are dunder methods in Python ?\n",
        "\n",
        "   - Dunder methods are special methods with double underscores (e.g., __init__, __str__).\n",
        "\n",
        "   - Also called magic methods.\n",
        "\n",
        "   - They allow custom behavior for built-in functions and operators.\n",
        "\n",
        "   - Used in classes to define how objects behave.\n",
        "\n",
        "   - Example: __add__ to customize + operator.\n"
      ],
      "metadata": {
        "id": "Dn_3ZbrzwObK"
      }
    },
    {
      "cell_type": "markdown",
      "source": [
        "6. Explain the concept of inheritance in OOPH.\n",
        "\n",
        "   - Inheritance means one class (child) can use the properties and methods of another class (parent).\n",
        "\n",
        "   - It helps to reuse code and reduce repetition.\n",
        "\n",
        "   - The parent class is also called the base class, and the child class is the derived class.\n",
        "\n",
        "   - The child class can also add its own features or change the inherited ones.\n",
        "\n",
        "   - Inheritance makes programs simpler, organized, and easier to maintain.\n"
      ],
      "metadata": {
        "id": "imUAZJN7zHvN"
      }
    },
    {
      "cell_type": "code",
      "source": [
        "#Example\n",
        "\n",
        "class Animal:\n",
        "    def sound(self):\n",
        "        print(\"Some sound\")\n",
        "\n",
        "class Dog(Animal):\n",
        "    def bark(self):\n",
        "        print(\"Bark!\")\n",
        "\n",
        "dog = Dog()\n",
        "dog.sound()  # Inherited from Animal\n",
        "dog.bark()   # Own method"
      ],
      "metadata": {
        "colab": {
          "base_uri": "https://localhost:8080/"
        },
        "id": "7wwwN2opzpfb",
        "outputId": "755f6016-faa8-477c-cd72-b6b70f04d9a0"
      },
      "execution_count": 1,
      "outputs": [
        {
          "output_type": "stream",
          "name": "stdout",
          "text": [
            "Some sound\n",
            "Bark!\n"
          ]
        }
      ]
    },
    {
      "cell_type": "markdown",
      "source": [
        "7. What is polymorphism in OOP ?\n",
        "\n",
        "   - Polymorphism means one thing, many forms.\n",
        "\n",
        "   - It allows the same function or method to work in different ways depending on the object.\n",
        "\n",
        "   - Helps to use a single interface for different data types or classes.\n",
        "\n",
        "   - Example: Different animals make different sounds, but you call the same method make_sound() for all.\n"
      ],
      "metadata": {
        "id": "B9k-pzJjz5ML"
      }
    },
    {
      "cell_type": "markdown",
      "source": [
        "8. How is encapsulation achieved in Python ?\n",
        "\n",
        "   - Encapsulation is done by hiding the data (variables) inside a class.\n",
        "\n",
        "   - Use private variables by adding double underscores __ before variable names (e.g., __data).\n",
        "\n",
        "   - Access and change these variables using getter and setter methods.\n",
        "\n",
        "   - This protects data from being modified directly outside the class.\n"
      ],
      "metadata": {
        "id": "jv1d7Eq40HVJ"
      }
    },
    {
      "cell_type": "markdown",
      "source": [
        "9. What is a constructor in Python ?\n",
        "\n",
        "   - A constructor is a special method in a class called automatically when an object is created.\n",
        "\n",
        "   - It initializes the object's attributes with values.\n",
        "\n",
        "   - In Python, the constructor method is named __init__().\n",
        "\n",
        "   - Helps set up the object with necessary data at the start.\n"
      ],
      "metadata": {
        "id": "5eDM_KWF0V9x"
      }
    },
    {
      "cell_type": "markdown",
      "source": [
        "10. What are class and static methods in Python ?\n",
        "\n",
        "   **Class Methods**\n",
        "\n",
        "    Defined using the decorator @classmethod.\n",
        "\n",
        "    The first parameter is cls (the class itself).\n",
        "\n",
        "    Can access or modify class variables (shared by all objects).\n",
        "\n",
        "    Called on the class, not just on objects.\n",
        "\n",
        "   ** Static Methods**\n",
        "\n",
        "    Defined using the decorator @staticmethod.\n",
        "\n",
        "    Doesn’t take self or cls as a parameter.\n",
        "\n",
        "    Like a regular function inside a class, no access to instance or class data.\n",
        "\n",
        "    Used for utility functions related to the class.\n"
      ],
      "metadata": {
        "id": "NPTcop8X0xuA"
      }
    },
    {
      "cell_type": "markdown",
      "source": [
        "11. What is method overloading in Python ?\n",
        "\n",
        "   - Method overloading means having multiple methods with the same name but different parameters in the same class.\n",
        "\n",
        "   - It allows a method to work differently based on input arguments.\n",
        "\n",
        "   - Python does NOT support method overloading directly like some other languages (e.g., Java).\n",
        "\n",
        "   - Instead, you can achieve similar behavior using default arguments or checking argument types inside the method.\n"
      ],
      "metadata": {
        "id": "_Zy50O6I1HqR"
      }
    },
    {
      "cell_type": "markdown",
      "source": [
        "12. What is method overriding in OOP?\n",
        "\n",
        "   - Method overriding happens when a child class provides its own version of a method that already exists in its parent class.\n",
        "\n",
        "   - It lets the child class change or extend the behavior of the parent class method.\n",
        "\n",
        "   - Used to make methods work differently for different classes.\n",
        "\n",
        "   - The method name and parameters stay the same in both classes.\n"
      ],
      "metadata": {
        "id": "L5QmHL0I1dCP"
      }
    },
    {
      "cell_type": "markdown",
      "source": [
        "13. What is a property decorator in Python ?\n",
        "\n",
        "    - The property decorator @property allows you to use methods like attributes.\n",
        "\n",
        "    - It helps to access a method without parentheses, making code cleaner and safer.\n",
        "\n",
        "    - Used to control getting, setting, or deleting an attribute in a class.\n",
        "\n",
        "    - Helps in encapsulation by controlling access to private variables.\n",
        "\n",
        "\n"
      ],
      "metadata": {
        "id": "aqS3-INd1tf-"
      }
    },
    {
      "cell_type": "markdown",
      "source": [
        "14. Why is polymorphism important in OOP ?\n",
        "    \n",
        "   - It allows one interface to be used for different data types, making code flexible.\n",
        "\n",
        "   - Helps write cleaner and simpler code by using the same method name for different behaviors.\n",
        "\n",
        "   - Makes programs easier to extend and maintain.\n",
        "\n",
        "   - Enables code reusability and reduces duplication.\n",
        "\n",
        "   - Supports dynamic method binding, so the right method runs based on the object type at runtime.\n"
      ],
      "metadata": {
        "id": "z65v4z7-2Gj9"
      }
    },
    {
      "cell_type": "markdown",
      "source": [
        "15. What is an abstract class in Python ?\n",
        "\n",
        "   - An abstract class is a class that cannot be instantiated directly.\n",
        "\n",
        "   - It is meant to be a base class for other classes.\n",
        "\n",
        "   - It can have one or more abstract methods — methods declared but without implementation.\n",
        "\n",
        "   - Child classes must implement these abstract methods.\n",
        "\n",
        "   - Helps to define a common interface for related classes.\n"
      ],
      "metadata": {
        "id": "VNXSy2y_2Yct"
      }
    },
    {
      "cell_type": "markdown",
      "source": [
        "16. What are the advantages of OOP ?\n",
        "    \n",
        "    1. Modularity: Code is organized into classes and objects, making it easier to manage.\n",
        "\n",
        "   2.  Reusability: Inheritance allows reuse of existing code, reducing duplication.\n",
        "\n",
        "   3.  Encapsulation: Protects data by hiding internal details and exposing only what’s needed.\n",
        "\n",
        "   4.  Flexibility: Polymorphism lets one interface work with different data types, improving flexibility.\n",
        "\n",
        "   5.  Maintainability: Easy to update and maintain code by modifying classes without affecting others.\n",
        "\n",
        "   6.  Real-world Modeling: Helps represent real-world entities and relationships clearly.\n"
      ],
      "metadata": {
        "id": "t6NjIqBJ2nV1"
      }
    },
    {
      "cell_type": "markdown",
      "source": [
        "17. What is the difference between a class variable and an instance variable ?\n",
        "\n",
        "   **Class Variable:**\n",
        "\n",
        "   - Shared by all objects of the class.\n",
        "\n",
        "   - Defined inside the class but outside any method.\n",
        "\n",
        "   - Changes to it affect all instances.\n",
        "\n",
        "   **Instance Variable:**\n",
        "\n",
        "   - Unique to each object.\n",
        "\n",
        "   - Defined inside methods, usually in __init__() using self.\n",
        "\n",
        "   - Changes to it affect only that object.\n",
        "\n",
        "\n"
      ],
      "metadata": {
        "id": "89FWMj0G3Kz0"
      }
    },
    {
      "cell_type": "markdown",
      "source": [
        "18. What is multiple inheritance in Python ?\n",
        "\n",
        "   - Multiple inheritance means a class can inherit from more than one parent class.\n",
        "\n",
        "   - The child class gets properties and methods from all parent classes.\n",
        "\n",
        "   - It helps to combine features from different classes into one.\n",
        "\n",
        "   - Used carefully to avoid confusion from conflicting methods.\n",
        "\n",
        "\n"
      ],
      "metadata": {
        "id": "BrYuwfoO354i"
      }
    },
    {
      "cell_type": "markdown",
      "source": [
        "19. Explain the purpose of \"__str__' and '__repr__'' methods in Python.\n",
        "\n",
        "**__str__:**\n",
        "\n",
        "    Used to return a friendly, readable string representation of an object.\n",
        "\n",
        "    Called by the print() function or str() to show info to users.\n",
        "\n",
        "**__repr__:**\n",
        "\n",
        "    Used to return an official string representation of the object, which should be unambiguous.\n",
        "\n",
        "    Used mainly for debugging and developer use.\n",
        "\n",
        "    Ideally, __repr__ returns a string that can recreate the object."
      ],
      "metadata": {
        "id": "eFPCyynd4J9x"
      }
    },
    {
      "cell_type": "code",
      "source": [
        "#Example\n",
        "class Car:\n",
        "    def __init__(self, brand):\n",
        "        self.brand = brand\n",
        "\n",
        "    def __str__(self):\n",
        "        return f\"Car brand: {self.brand}\"\n",
        "\n",
        "    def __repr__(self):\n",
        "        return f\"Car('{self.brand}')\"\n",
        "\n",
        "c = Car(\"Toyota\")\n",
        "print(str(c))\n",
        "print(repr(c))"
      ],
      "metadata": {
        "colab": {
          "base_uri": "https://localhost:8080/"
        },
        "id": "O26HsRFL4wOJ",
        "outputId": "e671ee21-5b86-4c77-b4c4-875173e81630"
      },
      "execution_count": 2,
      "outputs": [
        {
          "output_type": "stream",
          "name": "stdout",
          "text": [
            "Car brand: Toyota\n",
            "Car('Toyota')\n"
          ]
        }
      ]
    },
    {
      "cell_type": "markdown",
      "source": [
        "20.  What is the significance of the 'super()' function in Python ?\n",
        "\n",
        "    - super() allows a child class to call methods from its parent class.\n",
        "\n",
        "    - It helps to reuse and extend parent class functionality without rewriting code.\n",
        "\n",
        "    - Useful in inheritance, especially with multiple inheritance, to manage method resolution.\n",
        "\n",
        "    - Makes code cleaner and easier to maintain.\n"
      ],
      "metadata": {
        "id": "tOdTVjFz44f4"
      }
    },
    {
      "cell_type": "markdown",
      "source": [
        "21. What is the significance of the __del__ method in Python ?\n",
        "\n",
        "  -  __del__ is a destructor method called automatically when an object is about to be destroyed (garbage collected).\n",
        "\n",
        "   - Used to clean up resources like closing files or releasing memory before the object is removed.\n",
        "\n",
        "   - Helps manage resource cleanup without needing explicit calls.\n",
        "\n",
        "   - However, its use is limited because Python’s garbage collector handles most cleanup automatically.\n",
        "\n",
        "\n"
      ],
      "metadata": {
        "id": "BoGNB55l5l9_"
      }
    },
    {
      "cell_type": "markdown",
      "source": [
        "22. What is the difference between @staticmethod and @classmethod in Python?\n",
        "\n",
        "  **@staticmethod:**\n",
        "\n",
        "   - Does not take self or cls as a parameter.\n",
        "\n",
        "   - Works like a regular function inside a class.\n",
        "\n",
        "   - Cannot access or modify class or instance data.\n",
        "\n",
        "   - Used for utility functions related to the class.\n",
        "\n",
        "   **@classmethod:**\n",
        "\n",
        "   - Takes cls (the class itself) as the first parameter.\n",
        "\n",
        "   - Can access and modify class variables.\n",
        "\n",
        "   - Used to create methods that affect the class as a whole, not individual objects.\n"
      ],
      "metadata": {
        "id": "jLAknEPU6Aum"
      }
    },
    {
      "cell_type": "code",
      "source": [
        "#Example\n",
        "class MyClass:\n",
        "    count = 0\n",
        "\n",
        "    @classmethod\n",
        "    def increase_count(cls):\n",
        "        cls.count += 1\n",
        "\n",
        "    @staticmethod\n",
        "    def greet():\n",
        "        print(\"Hello!\")\n",
        "\n",
        "MyClass.increase_count()\n",
        "print(MyClass.count)\n",
        "MyClass.greet()"
      ],
      "metadata": {
        "colab": {
          "base_uri": "https://localhost:8080/"
        },
        "id": "FU16a6iP6ZfW",
        "outputId": "bf7d084b-7b8f-40c6-ca4d-f3645aba6a8a"
      },
      "execution_count": 3,
      "outputs": [
        {
          "output_type": "stream",
          "name": "stdout",
          "text": [
            "1\n",
            "Hello!\n"
          ]
        }
      ]
    },
    {
      "cell_type": "markdown",
      "source": [
        "23. How does polymorphism work in Python with inheritance.\n",
        "\n",
        "   - In polymorphism, a child class can have its own version of a method that’s defined in the parent class.\n",
        "\n",
        "   - When you call that method using a parent class reference, Python automatically uses the child class’s method (this is called method overriding).\n",
        "\n",
        "   - This lets you write code that works with objects of different classes through a common interface (like the same method name), but behaves differently based on the actual object.\n"
      ],
      "metadata": {
        "id": "wd2KFjOJ6nRs"
      }
    },
    {
      "cell_type": "code",
      "source": [
        "#Example\n",
        "class Animal:\n",
        "    def sound(self):\n",
        "        print(\"Some sound\")\n",
        "\n",
        "class Dog(Animal):\n",
        "    def sound(self):\n",
        "        print(\"Bark\")\n",
        "\n",
        "a = Dog()\n",
        "a.sound()"
      ],
      "metadata": {
        "colab": {
          "base_uri": "https://localhost:8080/"
        },
        "id": "Tqi8c1sq65Pc",
        "outputId": "9dbfa1a6-7cb9-4b20-e105-2ea8f4aed323"
      },
      "execution_count": 4,
      "outputs": [
        {
          "output_type": "stream",
          "name": "stdout",
          "text": [
            "Bark\n"
          ]
        }
      ]
    },
    {
      "cell_type": "markdown",
      "source": [
        "24. What is method chaining in Python OOP ?\n",
        "   \n",
        "   - Method chaining means calling multiple methods one after another on the same object in a single line.\n",
        "\n",
        "   - Each method returns the object itself (self), so the next method can be called immediately.\n",
        "\n",
        "   - Makes code shorter and easier to read when doing multiple operations.\n",
        "\n",
        "\n"
      ],
      "metadata": {
        "id": "6nfsZijV7LHD"
      }
    },
    {
      "cell_type": "code",
      "source": [
        "#Example\n",
        "class Person:\n",
        "    def set_name(self, name):\n",
        "        self.name = name\n",
        "        return self\n",
        "\n",
        "    def set_age(self, age):\n",
        "        self.age = age\n",
        "        return self\n",
        "\n",
        "p = Person()\n",
        "p.set_name(\"Alice\").set_age(25)\n",
        "print(p.name, p.age)\n"
      ],
      "metadata": {
        "colab": {
          "base_uri": "https://localhost:8080/"
        },
        "id": "yAm2MZ_67ZYj",
        "outputId": "450bd769-7941-41b7-89f7-2922e1d64a35"
      },
      "execution_count": 5,
      "outputs": [
        {
          "output_type": "stream",
          "name": "stdout",
          "text": [
            "Alice 25\n"
          ]
        }
      ]
    },
    {
      "cell_type": "markdown",
      "source": [
        "25. What is the purpose of the __call__ method in Python ?\n",
        "\n",
        "   - The __call__ method lets an object behave like a function.\n",
        "\n",
        "   - When you use parentheses () on an object, Python runs its __call__ method.\n",
        "\n",
        "   - Useful to make objects callable, so you can use them like functions but with added features or state.\n",
        "\n"
      ],
      "metadata": {
        "id": "ldQ8AXfX7g7b"
      }
    },
    {
      "cell_type": "code",
      "source": [
        "#Example\n",
        "class Counter:\n",
        "    def __init__(self):\n",
        "        self.count = 0\n",
        "\n",
        "    def __call__(self):\n",
        "        self.count += 1\n",
        "        print(f\"Count is {self.count}\")\n",
        "\n",
        "c = Counter()\n",
        "c()\n",
        "c()"
      ],
      "metadata": {
        "colab": {
          "base_uri": "https://localhost:8080/"
        },
        "id": "ZHrKa5C78CgK",
        "outputId": "c44b910f-83c2-4d19-a01f-07fadb7b695e"
      },
      "execution_count": 7,
      "outputs": [
        {
          "output_type": "stream",
          "name": "stdout",
          "text": [
            "Count is 1\n",
            "Count is 2\n"
          ]
        }
      ]
    },
    {
      "cell_type": "markdown",
      "source": [
        "# **Practical Questions**"
      ],
      "metadata": {
        "id": "t2815_Gd8K2p"
      }
    },
    {
      "cell_type": "markdown",
      "source": [
        "1. Create a parent class Animal with a method speak() that prints a generic message. Create a child class Dog that overrides the speak() method to print \"Bark!\"."
      ],
      "metadata": {
        "id": "1XKVhoDM8QeR"
      }
    },
    {
      "cell_type": "code",
      "source": [
        "class Animal:\n",
        "    def speak(self):\n",
        "        print(\"Animal makes a sound\")\n",
        "\n",
        "class Dog(Animal):\n",
        "    def speak(self):\n",
        "        print(\"Bark!\")\n",
        "\n",
        "# Create objects\n",
        "a = Animal()\n",
        "d = Dog()\n",
        "\n",
        "a.speak()\n",
        "d.speak()"
      ],
      "metadata": {
        "colab": {
          "base_uri": "https://localhost:8080/"
        },
        "id": "wlvy-aD28Xax",
        "outputId": "ccd50c24-164e-44ee-e002-f8802a678e4d"
      },
      "execution_count": 8,
      "outputs": [
        {
          "output_type": "stream",
          "name": "stdout",
          "text": [
            "Animal makes a sound\n",
            "Bark!\n"
          ]
        }
      ]
    },
    {
      "cell_type": "markdown",
      "source": [
        "2. Write a program to create an abstract class Shape with a method area(). Derive classes Circle and Rectangle from it and implement the area() method in both."
      ],
      "metadata": {
        "id": "q2gxkt0E8hBS"
      }
    },
    {
      "cell_type": "code",
      "source": [
        "class Shape:\n",
        "    def area(self):\n",
        "        pass\n",
        "\n",
        "class Circle(Shape):\n",
        "    def __init__(self, r):\n",
        "        self.r = r\n",
        "    def area(self):\n",
        "        return 3.14 * self.r * self.r\n",
        "\n",
        "class Rectangle(Shape):\n",
        "    def __init__(self, l, w):\n",
        "        self.l = l\n",
        "        self.w = w\n",
        "    def area(self):\n",
        "        return self.l * self.w\n",
        "\n",
        "c = Circle(5)\n",
        "r = Rectangle(4, 6)\n",
        "\n",
        "print(\"Circle Area:\", c.area())\n",
        "print(\"Rectangle Area:\", r.area())"
      ],
      "metadata": {
        "colab": {
          "base_uri": "https://localhost:8080/"
        },
        "id": "XAB0TBCF80Hg",
        "outputId": "fb3ad06f-bf5a-4f2a-e276-3474ee7a27ba"
      },
      "execution_count": 9,
      "outputs": [
        {
          "output_type": "stream",
          "name": "stdout",
          "text": [
            "Circle Area: 78.5\n",
            "Rectangle Area: 24\n"
          ]
        }
      ]
    },
    {
      "cell_type": "markdown",
      "source": [
        "3. Implement a multi-level inheritance scenario where a class Vehicle has an attribute type. Derive a class Car and further derive a class ElectricCar that adds a battery attribute."
      ],
      "metadata": {
        "id": "1vQexsKn9brP"
      }
    },
    {
      "cell_type": "code",
      "source": [
        "class Vehicle:\n",
        "    def __init__(self, vehicle_type):\n",
        "        self.vehicle_type = vehicle_type\n",
        "\n",
        "class Car(Vehicle):\n",
        "    def __init__(self, vehicle_type, brand):\n",
        "        super().__init__(vehicle_type)\n",
        "        self.brand = brand\n",
        "\n",
        "class ElectricCar(Car):\n",
        "    def __init__(self, vehicle_type, brand, battery_capacity):\n",
        "        super().__init__(vehicle_type, brand)\n",
        "        self.battery_capacity = battery_capacity\n",
        "\n",
        "# Create an instance of ElectricCar\n",
        "my_tesla = ElectricCar(\"Electric\", \"Tesla\", 100)\n",
        "\n",
        "# Access attributes from all levels of the inheritance hierarchy\n",
        "print(\"Vehicle Type:\", my_tesla.vehicle_type)\n",
        "print(\"Car Brand:\", my_tesla.brand)\n",
        "print(\"Battery Capacity:\", my_tesla.battery_capacity, \"kWh\")"
      ],
      "metadata": {
        "colab": {
          "base_uri": "https://localhost:8080/"
        },
        "id": "gF3ycHLS9sO4",
        "outputId": "8a40e0a1-600b-485b-b740-e1600edf9ddc"
      },
      "execution_count": 10,
      "outputs": [
        {
          "output_type": "stream",
          "name": "stdout",
          "text": [
            "Vehicle Type: Electric\n",
            "Car Brand: Tesla\n",
            "Battery Capacity: 100 kWh\n"
          ]
        }
      ]
    },
    {
      "cell_type": "markdown",
      "source": [
        "4. Demonstrate polymorphism by creating a base class Bird with a method fly(). Create two derived classes Sparrow and Penguin that override the fly() method.\n",
        "\n",
        "\n"
      ],
      "metadata": {
        "id": "X7AXhojC-u2l"
      }
    },
    {
      "cell_type": "code",
      "source": [
        "class Bird:\n",
        "    def fly(self):\n",
        "        print(\"Bird can fly\")\n",
        "\n",
        "class Sparrow(Bird):\n",
        "    def fly(self):\n",
        "        print(\"Sparrow flies high\")\n",
        "\n",
        "class Penguin(Bird):\n",
        "    def fly(self):\n",
        "        print(\"Penguin can't fly\")\n",
        "\n",
        "# Create instances\n",
        "birds = [Sparrow(), Penguin()]\n",
        "\n",
        "for bird in birds:\n",
        "    bird.fly()"
      ],
      "metadata": {
        "colab": {
          "base_uri": "https://localhost:8080/"
        },
        "id": "3yh50AvE-yo9",
        "outputId": "177f38a7-abb1-4f67-8483-e519561df25d"
      },
      "execution_count": 11,
      "outputs": [
        {
          "output_type": "stream",
          "name": "stdout",
          "text": [
            "Sparrow flies high\n",
            "Penguin can't fly\n"
          ]
        }
      ]
    },
    {
      "cell_type": "markdown",
      "source": [
        "5. Write a program to demonstrate encapsulation by creating a class BankAccount with private attributes balance and methods to deposit, withdraw, and check balance."
      ],
      "metadata": {
        "id": "0Yjpk_Uf_M2k"
      }
    },
    {
      "cell_type": "code",
      "source": [
        "class BankAccount:\n",
        "    def __init__(self, initial_balance=0):\n",
        "        self.__balance = initial_balance  # Private attribute\n",
        "\n",
        "    def deposit(self, amount):\n",
        "        if amount > 0:\n",
        "            self.__balance += amount\n",
        "            print(f\"Deposited: {amount}\")\n",
        "        else:\n",
        "            print(\"Deposit amount must be positive.\")\n",
        "\n",
        "    def withdraw(self, amount):\n",
        "        if amount > 0:\n",
        "            if self.__balance >= amount:\n",
        "                self.__balance -= amount\n",
        "                print(f\"Withdrew: {amount}\")\n",
        "            else:\n",
        "                print(\"Insufficient funds.\")\n",
        "        else:\n",
        "            print(\"Withdrawal amount must be positive.\")\n",
        "\n",
        "    def get_balance(self):\n",
        "        return self.__balance\n",
        "\n",
        "# Example usage:\n",
        "account = BankAccount(1000)\n",
        "account.deposit(500)\n",
        "account.withdraw(200)\n",
        "print(\"Current balance:\", account.get_balance())"
      ],
      "metadata": {
        "colab": {
          "base_uri": "https://localhost:8080/"
        },
        "id": "Lqh1XjZ6_O9E",
        "outputId": "d3a25b1d-1cc7-42c7-d9c9-d1c7d43c79fa"
      },
      "execution_count": 12,
      "outputs": [
        {
          "output_type": "stream",
          "name": "stdout",
          "text": [
            "Deposited: 500\n",
            "Withdrew: 200\n",
            "Current balance: 1300\n"
          ]
        }
      ]
    },
    {
      "cell_type": "markdown",
      "source": [
        "6. Demonstrate runtime polymorphism using a method play() in a base class Instrument. Derive classes Guitar and Piano that implement their own version of play()."
      ],
      "metadata": {
        "id": "890sRQqe_nqj"
      }
    },
    {
      "cell_type": "code",
      "source": [
        "class Instrument:\n",
        "    def play(self):\n",
        "        print(\"Playing a musical instrument\")\n",
        "\n",
        "class Guitar(Instrument):\n",
        "    def play(self):\n",
        "        print(\"Strumming the guitar\")\n",
        "\n",
        "class Piano(Instrument):\n",
        "    def play(self):\n",
        "        print(\"Playing the piano\")\n",
        "\n",
        "# Create instances\n",
        "instruments = [Guitar(), Piano()]\n",
        "\n",
        "# Demonstrate runtime polymorphism\n",
        "for instrument in instruments:\n",
        "    instrument.play()"
      ],
      "metadata": {
        "colab": {
          "base_uri": "https://localhost:8080/"
        },
        "id": "pdODnexQ_paT",
        "outputId": "5c367b47-bc27-44a9-eae9-ca451179fcb9"
      },
      "execution_count": 13,
      "outputs": [
        {
          "output_type": "stream",
          "name": "stdout",
          "text": [
            "Strumming the guitar\n",
            "Playing the piano\n"
          ]
        }
      ]
    },
    {
      "cell_type": "markdown",
      "source": [
        "7. Create a class MathOperations with a class method add_numbers() to add two numbers and a static method subtract_numbers() to subtract two numbers."
      ],
      "metadata": {
        "id": "dovX4TmG_9dq"
      }
    },
    {
      "cell_type": "code",
      "source": [
        "class MathOperations:\n",
        "    @classmethod\n",
        "    def add_numbers(cls, a, b):\n",
        "        return a + b\n",
        "\n",
        "    @staticmethod\n",
        "    def subtract_numbers(a, b):\n",
        "        return a - b\n",
        "\n",
        "# Using the class method\n",
        "sum_result = MathOperations.add_numbers(5, 3)\n",
        "print(\"Sum:\", sum_result)\n",
        "# Using the static method\n",
        "difference_result = MathOperations.subtract_numbers(10, 4)\n",
        "print(\"Difference:\", difference_result)"
      ],
      "metadata": {
        "colab": {
          "base_uri": "https://localhost:8080/"
        },
        "id": "2LnkH7OL__Oi",
        "outputId": "6f6dfd20-96c1-40eb-e4de-8ff66b845e91"
      },
      "execution_count": 14,
      "outputs": [
        {
          "output_type": "stream",
          "name": "stdout",
          "text": [
            "Sum: 8\n",
            "Difference: 6\n"
          ]
        }
      ]
    },
    {
      "cell_type": "markdown",
      "source": [
        "8. Implement a class Person with a class method to count the total number of persons created."
      ],
      "metadata": {
        "id": "b-vvaGxOAmqa"
      }
    },
    {
      "cell_type": "code",
      "source": [
        "class Person:\n",
        "    count = 0  # Class variable to keep track of the number of instances\n",
        "\n",
        "    def __init__(self, name, age):\n",
        "        self.name = name\n",
        "        self.age = age\n",
        "        Person.count += 1  # Increment the count each time a new object is created\n",
        "\n",
        "    @classmethod\n",
        "    def get_total_persons(cls):\n",
        "        return cls.count  # Return the total count of Person instances\n",
        "\n",
        "# Creating instances of Person\n",
        "p1 = Person(\"Alice\", 30)\n",
        "p2 = Person(\"Bob\", 25)\n",
        "p3 = Person(\"Charlie\", 35)\n",
        "\n",
        "# Accessing the total count using the class method\n",
        "print(\"Total number of persons created:\", Person.get_total_persons())"
      ],
      "metadata": {
        "colab": {
          "base_uri": "https://localhost:8080/"
        },
        "id": "8s80UmBqAptR",
        "outputId": "f0e9ec23-f66b-479e-8c7f-585a921077f1"
      },
      "execution_count": 15,
      "outputs": [
        {
          "output_type": "stream",
          "name": "stdout",
          "text": [
            "Total number of persons created: 3\n"
          ]
        }
      ]
    },
    {
      "cell_type": "markdown",
      "source": [
        "9. Write a class Fraction with attributes numerator and denominator. Override the str method to display the fraction as \"numerator/denominator\"."
      ],
      "metadata": {
        "id": "d3GTXAjTBFB5"
      }
    },
    {
      "cell_type": "code",
      "source": [
        "class Fraction:\n",
        "    def __init__(self, numerator, denominator):\n",
        "        self.numerator = numerator\n",
        "        self.denominator = denominator\n",
        "\n",
        "    def __str__(self):\n",
        "        return f\"{self.numerator}/{self.denominator}\"\n",
        "\n",
        "# Example usage\n",
        "fraction = Fraction(3, 4)\n",
        "print(fraction)"
      ],
      "metadata": {
        "colab": {
          "base_uri": "https://localhost:8080/"
        },
        "id": "OopE-n6HBG_Z",
        "outputId": "4e1ae939-411f-4d9c-deb3-edc854706d54"
      },
      "execution_count": 16,
      "outputs": [
        {
          "output_type": "stream",
          "name": "stdout",
          "text": [
            "3/4\n"
          ]
        }
      ]
    },
    {
      "cell_type": "markdown",
      "source": [
        "10. Demonstrate operator overloading by creating a class Vector and overriding the add method to add two vectors."
      ],
      "metadata": {
        "id": "HCPuC7sqBUcI"
      }
    },
    {
      "cell_type": "code",
      "source": [
        "class Vector:\n",
        "    def __init__(self, x, y):\n",
        "        self.x = x\n",
        "        self.y = y\n",
        "\n",
        "    def __add__(self, other):\n",
        "        return Vector(self.x + other.x, self.y + other.y)\n",
        "\n",
        "    def __str__(self):\n",
        "        return f\"({self.x}, {self.y})\"\n",
        "\n",
        "# Create two vectors\n",
        "v1 = Vector(2, 3)\n",
        "v2 = Vector(4, 1)\n",
        "\n",
        "# Add vectors using overloaded + operator\n",
        "v3 = v1 + v2\n",
        "\n",
        "print(\"Result of vector addition:\", v3)"
      ],
      "metadata": {
        "colab": {
          "base_uri": "https://localhost:8080/"
        },
        "id": "oy_1XzTyBYpQ",
        "outputId": "bdd4ed06-9061-4f5f-dfbb-0a89ca8a492c"
      },
      "execution_count": 17,
      "outputs": [
        {
          "output_type": "stream",
          "name": "stdout",
          "text": [
            "Result of vector addition: (6, 4)\n"
          ]
        }
      ]
    },
    {
      "cell_type": "markdown",
      "source": [
        "11. Create a class Person with attributes name and age. Add a method greet() that prints \"Hello, my name is {name} and I am {age} years old.\""
      ],
      "metadata": {
        "id": "lMj1Bb9MB214"
      }
    },
    {
      "cell_type": "code",
      "source": [
        "class Person:\n",
        "    def __init__(self, name, age):\n",
        "        self.name = name\n",
        "        self.age = age\n",
        "\n",
        "    def greet(self):\n",
        "        print(f\"Hello, my name is {self.name} and I am {self.age} years old.\")\n",
        "\n",
        "# Example usage\n",
        "person = Person(\"Alice\", 30)\n",
        "person.greet()"
      ],
      "metadata": {
        "colab": {
          "base_uri": "https://localhost:8080/"
        },
        "id": "A3huu9c8B5Dn",
        "outputId": "ee61b3eb-6b5e-43c9-d0f6-f7ab3ba5f80f"
      },
      "execution_count": 18,
      "outputs": [
        {
          "output_type": "stream",
          "name": "stdout",
          "text": [
            "Hello, my name is Alice and I am 30 years old.\n"
          ]
        }
      ]
    },
    {
      "cell_type": "markdown",
      "source": [
        "12. Implement a class Student with attributes name and grades. Create a method average_grade() to compute the average of the grades."
      ],
      "metadata": {
        "id": "SPa3qxJ_B5hH"
      }
    },
    {
      "cell_type": "code",
      "source": [
        "class Student:\n",
        "    def __init__(self, name, grades):\n",
        "        self.name = name\n",
        "        self.grades = grades\n",
        "\n",
        "    def average_grade(self):\n",
        "        return sum(self.grades) / len(self.grades)\n",
        "\n",
        "# Example usage\n",
        "student = Student(\"John Doe\", [85, 90, 78, 92, 88])\n",
        "print(f\"{student.name}'s average grade is: {student.average_grade()}\")"
      ],
      "metadata": {
        "colab": {
          "base_uri": "https://localhost:8080/"
        },
        "id": "A-qivFGUB9FX",
        "outputId": "be75ef65-a9a2-442d-8476-8163eaa0c152"
      },
      "execution_count": 19,
      "outputs": [
        {
          "output_type": "stream",
          "name": "stdout",
          "text": [
            "John Doe's average grade is: 86.6\n"
          ]
        }
      ]
    },
    {
      "cell_type": "markdown",
      "source": [
        "13. Create a class Rectangle with methods set_dimensions() to set the dimensions and area() to calculate the area."
      ],
      "metadata": {
        "id": "MTrqK7jxB9hP"
      }
    },
    {
      "cell_type": "code",
      "source": [
        "class Rectangle:\n",
        "    def __init__(self, length=1, width=1):\n",
        "        self.set_dimensions(length, width)\n",
        "\n",
        "    def set_dimensions(self, length, width):\n",
        "        self.length = length\n",
        "        self.width = width\n",
        "\n",
        "    def area(self):\n",
        "        return self.length * self.width\n",
        "\n",
        "# Example usage\n",
        "rect = Rectangle()\n",
        "rect.set_dimensions(5, 3)\n",
        "print(f\"Area of rectangle: {rect.area()}\")"
      ],
      "metadata": {
        "colab": {
          "base_uri": "https://localhost:8080/"
        },
        "id": "74jNkGsQCBB_",
        "outputId": "85e33cba-02ac-481a-adf3-08a766abb221"
      },
      "execution_count": 20,
      "outputs": [
        {
          "output_type": "stream",
          "name": "stdout",
          "text": [
            "Area of rectangle: 15\n"
          ]
        }
      ]
    },
    {
      "cell_type": "markdown",
      "source": [
        "14. Create a class Employee with a method calculate_salary() that computes the salary based on hours worked and hourly rate. Create a derived class Manager that adds a bonus to the salary."
      ],
      "metadata": {
        "id": "rsS-BPi1CEW2"
      }
    },
    {
      "cell_type": "code",
      "source": [
        "class Employee:\n",
        "    def __init__(self, name, hours, rate):\n",
        "        self.name = name\n",
        "        self.hours = hours\n",
        "        self.rate = rate\n",
        "\n",
        "    def calculate_salary(self):\n",
        "        return self.hours * self.rate\n",
        "\n",
        "\n",
        "class Manager(Employee):\n",
        "    def __init__(self, name, hours, rate, bonus):\n",
        "        super().__init__(name, hours, rate)\n",
        "        self.bonus = bonus\n",
        "\n",
        "    def calculate_salary(self):\n",
        "        return super().calculate_salary() + self.bonus\n",
        "\n",
        "\n",
        "# Example:\n",
        "e = Employee(\"Rahul\", 40, 500)\n",
        "print(\"Employee Salary: ₹\", e.calculate_salary())\n",
        "\n",
        "m = Manager(\"Priya\", 40, 700, 10000)\n",
        "print(\"Manager Salary: ₹\", m.calculate_salary())"
      ],
      "metadata": {
        "colab": {
          "base_uri": "https://localhost:8080/"
        },
        "id": "RZqhHZceCGAP",
        "outputId": "13bd9ad8-5cc6-4039-9470-bbaa81297063"
      },
      "execution_count": 21,
      "outputs": [
        {
          "output_type": "stream",
          "name": "stdout",
          "text": [
            "Employee Salary: ₹ 20000\n",
            "Manager Salary: ₹ 38000\n"
          ]
        }
      ]
    },
    {
      "cell_type": "markdown",
      "source": [
        "15. Create a class Product with attributes name, price, and quantity. Implement a method total_price() that calculates the total price of the product."
      ],
      "metadata": {
        "id": "m6j62lRPCH7n"
      }
    },
    {
      "cell_type": "code",
      "source": [
        "class Product:\n",
        "    def __init__(self, name, price, quantity):\n",
        "        self.name = name\n",
        "        self.price = price\n",
        "        self.quantity = quantity\n",
        "\n",
        "    def total_price(self):\n",
        "        return self.price * self.quantity\n",
        "\n",
        "# Example usage:\n",
        "product = Product(\"Laptop\", 50000, 2)\n",
        "print(f\"Total price of {product.name}: ₹{product.total_price()}\")"
      ],
      "metadata": {
        "colab": {
          "base_uri": "https://localhost:8080/"
        },
        "id": "X3RBYuRICJqP",
        "outputId": "d68354b4-da14-441f-c054-cd22a7215212"
      },
      "execution_count": 22,
      "outputs": [
        {
          "output_type": "stream",
          "name": "stdout",
          "text": [
            "Total price of Laptop: ₹100000\n"
          ]
        }
      ]
    },
    {
      "cell_type": "markdown",
      "source": [
        "16. Create a class Animal with an abstract method sound(). Create two derived classes Cow and Sheep that implement the sound() method."
      ],
      "metadata": {
        "id": "smwmImqOCKP_"
      }
    },
    {
      "cell_type": "code",
      "source": [
        "from abc import ABC, abstractmethod\n",
        "\n",
        "# Abstract base class\n",
        "class Animal(ABC):\n",
        "    @abstractmethod\n",
        "    def sound(self):\n",
        "        pass\n",
        "\n",
        "# Derived class Cow\n",
        "class Cow(Animal):\n",
        "    def sound(self):\n",
        "        return \"Moo\"\n",
        "\n",
        "# Derived class Sheep\n",
        "class Sheep(Animal):\n",
        "    def sound(self):\n",
        "        return \"Baa\"\n",
        "\n",
        "# Example usage\n",
        "cow = Cow()\n",
        "sheep = Sheep()\n",
        "\n",
        "print(f\"Cow says: {cow.sound()}\")\n",
        "print(f\"Sheep says: {sheep.sound()}\")"
      ],
      "metadata": {
        "colab": {
          "base_uri": "https://localhost:8080/"
        },
        "id": "pQ6WlRJjCNSv",
        "outputId": "b272a08e-737c-49d9-9c95-237695233604"
      },
      "execution_count": 23,
      "outputs": [
        {
          "output_type": "stream",
          "name": "stdout",
          "text": [
            "Cow says: Moo\n",
            "Sheep says: Baa\n"
          ]
        }
      ]
    },
    {
      "cell_type": "markdown",
      "source": [
        "17. Create a class Book with attributes title, author, and year_published. Add a method get_book_info() that returns a formatted string with the book's details."
      ],
      "metadata": {
        "id": "JhTidp2pCPKP"
      }
    },
    {
      "cell_type": "code",
      "source": [
        "class Book:\n",
        "    def __init__(self, title, author, year_published):\n",
        "        self.title = title\n",
        "        self.author = author\n",
        "        self.year_published = year_published\n",
        "\n",
        "    def get_book_info(self):\n",
        "        return f\"'{self.title}' by {self.author}, published in {self.year_published}\"\n",
        "\n",
        "# Example usage\n",
        "book = Book(\"The White Tiger\", \"Aravind Adiga\", 2008)\n",
        "print(book.get_book_info())"
      ],
      "metadata": {
        "colab": {
          "base_uri": "https://localhost:8080/"
        },
        "id": "IjwveJfNCQ6X",
        "outputId": "be8ab185-6f7f-4cad-dca8-369f8106cd98"
      },
      "execution_count": 25,
      "outputs": [
        {
          "output_type": "stream",
          "name": "stdout",
          "text": [
            "'The White Tiger' by Aravind Adiga, published in 2008\n"
          ]
        }
      ]
    },
    {
      "cell_type": "markdown",
      "source": [
        "18. Create a class House with attributes address and price. Create a derived class Mansion that adds an attribute number_of_rooms."
      ],
      "metadata": {
        "id": "ZK2gMgpYCTA-"
      }
    },
    {
      "cell_type": "code",
      "source": [
        "class House:\n",
        "    def __init__(self, address, price):\n",
        "        self.address = address\n",
        "        self.price = price\n",
        "\n",
        "    def get_info(self):\n",
        "        return f\"Address: {self.address}, Price: ₹{self.price}\"\n",
        "\n",
        "class Mansion(House):\n",
        "    def __init__(self, address, price, number_of_rooms):\n",
        "        super().__init__(address, price)\n",
        "        self.number_of_rooms = number_of_rooms\n",
        "\n",
        "    def get_info(self):\n",
        "        base_info = super().get_info()\n",
        "        return f\"{base_info}, Rooms: {self.number_of_rooms}\"\n",
        "\n",
        "# Example usage\n",
        "house = House(\"123 Main St, Pune\", 5000000)\n",
        "print(house.get_info())\n",
        "\n",
        "mansion = Mansion(\"456 Elite Rd, Mumbai\", 50000000, 12)\n",
        "print(mansion.get_info())"
      ],
      "metadata": {
        "colab": {
          "base_uri": "https://localhost:8080/"
        },
        "id": "4bTTMNRyCUm-",
        "outputId": "d38745e9-6f40-490c-99ae-b497ff03510b"
      },
      "execution_count": 26,
      "outputs": [
        {
          "output_type": "stream",
          "name": "stdout",
          "text": [
            "Address: 123 Main St, Pune, Price: ₹5000000\n",
            "Address: 456 Elite Rd, Mumbai, Price: ₹50000000, Rooms: 12\n"
          ]
        }
      ]
    }
  ]
}